{
 "cells": [
  {
   "metadata": {},
   "cell_type": "markdown",
   "source": "# 基于截断的阅读理解模型",
   "id": "2c1237cea1ade3b7"
  },
  {
   "cell_type": "code",
   "id": "initial_id",
   "metadata": {
    "collapsed": true,
    "ExecuteTime": {
     "end_time": "2025-01-31T13:30:45.361735Z",
     "start_time": "2025-01-31T13:30:45.353775Z"
    }
   },
   "source": [
    "import os\n",
    "\n",
    "os.environ['CUDA_VISIBLE_DEVICES'] = '1'\n",
    "os.environ['HF_ENDPOINT'] = 'https://hf-mirror.com'"
   ],
   "outputs": [],
   "execution_count": 1
  },
  {
   "metadata": {
    "ExecuteTime": {
     "end_time": "2025-01-31T13:30:50.809694Z",
     "start_time": "2025-01-31T13:30:45.372746Z"
    }
   },
   "cell_type": "code",
   "source": [
    "from transformers import AutoTokenizer, AutoModelForQuestionAnswering, TrainingArguments, Trainer, DefaultDataCollator\n",
    "from datasets import Dataset\n",
    "import pandas as pd"
   ],
   "id": "3850a1311d712e54",
   "outputs": [],
   "execution_count": 2
  },
  {
   "metadata": {
    "ExecuteTime": {
     "end_time": "2025-01-31T13:30:50.922436Z",
     "start_time": "2025-01-31T13:30:50.886531Z"
    }
   },
   "cell_type": "code",
   "source": [
    "df = pd.read_parquet('数据/QA阅读理解模型.parquet')\n",
    "df.head()"
   ],
   "id": "44c728392d4ff3c1",
   "outputs": [
    {
     "data": {
      "text/plain": [
       "                                             context            question  \\\n",
       "0  范廷颂枢机（，），圣名保禄·若瑟（），是越南罗马天主教枢机。1963年被任为主教；1990年...     范廷颂是什么时候被任为主教的？   \n",
       "1  范廷颂枢机（，），圣名保禄·若瑟（），是越南罗马天主教枢机。1963年被任为主教；1990年...    1990年，范廷颂担任什么职务？   \n",
       "2  范廷颂枢机（，），圣名保禄·若瑟（），是越南罗马天主教枢机。1963年被任为主教；1990年...       范廷颂是于何时何地出生的？   \n",
       "3  范廷颂枢机（，），圣名保禄·若瑟（），是越南罗马天主教枢机。1963年被任为主教；1990年...  1994年3月，范廷颂担任什么职务？   \n",
       "4  范廷颂枢机（，），圣名保禄·若瑟（），是越南罗马天主教枢机。1963年被任为主教；1990年...          范廷颂是何时去世的？   \n",
       "\n",
       "                                              answer  \n",
       "0                                              1963年  \n",
       "1                              1990年被擢升为天主教河内总教区宗座署理  \n",
       "2                      范廷颂于1919年6月15日在越南宁平省天主教发艳教区出生  \n",
       "3  1994年3月23日，范廷颂被教宗若望保禄二世擢升为天主教河内总教区总主教并兼天主教谅山教区...  \n",
       "4                              范廷颂于2009年2月22日清晨在河内离世  "
      ],
      "text/html": [
       "<div>\n",
       "<style scoped>\n",
       "    .dataframe tbody tr th:only-of-type {\n",
       "        vertical-align: middle;\n",
       "    }\n",
       "\n",
       "    .dataframe tbody tr th {\n",
       "        vertical-align: top;\n",
       "    }\n",
       "\n",
       "    .dataframe thead th {\n",
       "        text-align: right;\n",
       "    }\n",
       "</style>\n",
       "<table border=\"1\" class=\"dataframe\">\n",
       "  <thead>\n",
       "    <tr style=\"text-align: right;\">\n",
       "      <th></th>\n",
       "      <th>context</th>\n",
       "      <th>question</th>\n",
       "      <th>answer</th>\n",
       "    </tr>\n",
       "  </thead>\n",
       "  <tbody>\n",
       "    <tr>\n",
       "      <th>0</th>\n",
       "      <td>范廷颂枢机（，），圣名保禄·若瑟（），是越南罗马天主教枢机。1963年被任为主教；1990年...</td>\n",
       "      <td>范廷颂是什么时候被任为主教的？</td>\n",
       "      <td>1963年</td>\n",
       "    </tr>\n",
       "    <tr>\n",
       "      <th>1</th>\n",
       "      <td>范廷颂枢机（，），圣名保禄·若瑟（），是越南罗马天主教枢机。1963年被任为主教；1990年...</td>\n",
       "      <td>1990年，范廷颂担任什么职务？</td>\n",
       "      <td>1990年被擢升为天主教河内总教区宗座署理</td>\n",
       "    </tr>\n",
       "    <tr>\n",
       "      <th>2</th>\n",
       "      <td>范廷颂枢机（，），圣名保禄·若瑟（），是越南罗马天主教枢机。1963年被任为主教；1990年...</td>\n",
       "      <td>范廷颂是于何时何地出生的？</td>\n",
       "      <td>范廷颂于1919年6月15日在越南宁平省天主教发艳教区出生</td>\n",
       "    </tr>\n",
       "    <tr>\n",
       "      <th>3</th>\n",
       "      <td>范廷颂枢机（，），圣名保禄·若瑟（），是越南罗马天主教枢机。1963年被任为主教；1990年...</td>\n",
       "      <td>1994年3月，范廷颂担任什么职务？</td>\n",
       "      <td>1994年3月23日，范廷颂被教宗若望保禄二世擢升为天主教河内总教区总主教并兼天主教谅山教区...</td>\n",
       "    </tr>\n",
       "    <tr>\n",
       "      <th>4</th>\n",
       "      <td>范廷颂枢机（，），圣名保禄·若瑟（），是越南罗马天主教枢机。1963年被任为主教；1990年...</td>\n",
       "      <td>范廷颂是何时去世的？</td>\n",
       "      <td>范廷颂于2009年2月22日清晨在河内离世</td>\n",
       "    </tr>\n",
       "  </tbody>\n",
       "</table>\n",
       "</div>"
      ]
     },
     "execution_count": 3,
     "metadata": {},
     "output_type": "execute_result"
    }
   ],
   "execution_count": 3
  },
  {
   "metadata": {},
   "cell_type": "code",
   "source": [
    "dataset = Dataset.from_pandas(df).train_test_split(test_size=0.1)\n",
    "dataset"
   ],
   "id": "8feee094224f104",
   "outputs": [],
   "execution_count": null
  },
  {
   "metadata": {},
   "cell_type": "markdown",
   "source": "## 1、预处理数据",
   "id": "f19e375e50e51ef3"
  },
  {
   "metadata": {},
   "cell_type": "code",
   "source": [
    "model_path = \"hfl/chinese-macbert-base\"\n",
    "tokenizer = AutoTokenizer.from_pretrained(model_path)"
   ],
   "id": "1a3695aa9d6a53e4",
   "outputs": [],
   "execution_count": null
  },
  {
   "metadata": {},
   "cell_type": "code",
   "source": [
    "def process_func(examples):\n",
    "    token = tokenizer(text=examples[\"question\"],\n",
    "                      text_pair=examples[\"context\"],\n",
    "                      max_length=512,\n",
    "                      truncation=\"only_second\",\n",
    "                      padding=\"max_length\",\n",
    "                      return_offsets_mapping=True,\n",
    "                      )\n",
    "    start_positions, end_positions = [], []\n",
    "\n",
    "    for idx, offset in enumerate(token[\"offset_mapping\"]):\n",
    "        context = examples[\"context\"][idx]\n",
    "        answer = examples[\"answer\"][idx]\n",
    "\n",
    "        start_token_pos = end_token_pos = 0\n",
    "\n",
    "        if answer in context:\n",
    "            start_index = context.find(answer)\n",
    "            end_index = start_index + len(answer)\n",
    "\n",
    "            # 文本索引的最后一位小于开始文本 or 文本索引的开始一位大于结束文本\n",
    "            for token_id, (start, end) in enumerate(offset):\n",
    "                if 0 < start <= start_index:\n",
    "                    start_token_pos = token_id\n",
    "                elif start_index < end <= end_index:\n",
    "                    end_token_pos = token_id\n",
    "\n",
    "        start_positions.append(start_token_pos)\n",
    "        end_positions.append(end_token_pos)\n",
    "    token[\"start_positions\"] = start_positions\n",
    "    token[\"end_positions\"] = end_positions\n",
    "    return token"
   ],
   "id": "160f2d5c5ea5aec3",
   "outputs": [],
   "execution_count": null
  },
  {
   "metadata": {},
   "cell_type": "code",
   "source": [
    "dataloader = dataset.map(process_func, batched=True)\n",
    "dataloader"
   ],
   "id": "5a864539d6c20e48",
   "outputs": [],
   "execution_count": null
  },
  {
   "metadata": {},
   "cell_type": "markdown",
   "source": "## 2、加载模型",
   "id": "bb19d4f6515320a1"
  },
  {
   "metadata": {},
   "cell_type": "code",
   "source": "model = AutoModelForQuestionAnswering.from_pretrained(model_path)",
   "id": "48332c5a3bfc6c86",
   "outputs": [],
   "execution_count": null
  },
  {
   "metadata": {},
   "cell_type": "markdown",
   "source": "## 3、配置参数",
   "id": "28152a619ea71ce"
  },
  {
   "metadata": {},
   "cell_type": "code",
   "source": [
    "args = TrainingArguments(\n",
    "    output_dir=\"model\",\n",
    "    per_device_train_batch_size=32,\n",
    "    per_device_eval_batch_size=32,\n",
    "    eval_strategy=\"steps\",\n",
    "    logging_steps=100,\n",
    "    num_train_epochs=3,\n",
    "    eval_steps=100,\n",
    "    save_steps=100,\n",
    "    save_total_limit=1,\n",
    ")"
   ],
   "id": "4a1aa71a8083f6da",
   "outputs": [],
   "execution_count": null
  },
  {
   "metadata": {},
   "cell_type": "markdown",
   "source": "## 4、创建训练器",
   "id": "bb2347b6b36d26d3"
  },
  {
   "metadata": {},
   "cell_type": "code",
   "source": [
    "train = Trainer(\n",
    "    model=model,\n",
    "    args=args,\n",
    "    train_dataset=dataloader[\"train\"],\n",
    "    eval_dataset=dataloader[\"test\"],\n",
    "    data_collator=DefaultDataCollator(),\n",
    ")"
   ],
   "id": "604b6d9c4a40df3e",
   "outputs": [],
   "execution_count": null
  },
  {
   "metadata": {},
   "cell_type": "markdown",
   "source": "## 5、训练",
   "id": "90f46ff91a909522"
  },
  {
   "metadata": {},
   "cell_type": "code",
   "source": "train.train()",
   "id": "d547633e05e1808b",
   "outputs": [
    {
     "data": {
      "text/plain": [
       "<IPython.core.display.HTML object>"
      ],
      "text/html": [
       "\n",
       "    <div>\n",
       "      \n",
       "      <progress value='1212' max='1212' style='width:300px; height:20px; vertical-align: middle;'></progress>\n",
       "      [1212/1212 25:02, Epoch 3/3]\n",
       "    </div>\n",
       "    <table border=\"1\" class=\"dataframe\">\n",
       "  <thead>\n",
       " <tr style=\"text-align: left;\">\n",
       "      <th>Step</th>\n",
       "      <th>Training Loss</th>\n",
       "      <th>Validation Loss</th>\n",
       "    </tr>\n",
       "  </thead>\n",
       "  <tbody>\n",
       "    <tr>\n",
       "      <td>100</td>\n",
       "      <td>2.544000</td>\n",
       "      <td>1.455699</td>\n",
       "    </tr>\n",
       "    <tr>\n",
       "      <td>200</td>\n",
       "      <td>1.481100</td>\n",
       "      <td>1.276272</td>\n",
       "    </tr>\n",
       "    <tr>\n",
       "      <td>300</td>\n",
       "      <td>1.316000</td>\n",
       "      <td>1.185459</td>\n",
       "    </tr>\n",
       "    <tr>\n",
       "      <td>400</td>\n",
       "      <td>1.239300</td>\n",
       "      <td>1.131545</td>\n",
       "    </tr>\n",
       "    <tr>\n",
       "      <td>500</td>\n",
       "      <td>0.940800</td>\n",
       "      <td>1.164976</td>\n",
       "    </tr>\n",
       "    <tr>\n",
       "      <td>600</td>\n",
       "      <td>0.873500</td>\n",
       "      <td>1.181161</td>\n",
       "    </tr>\n",
       "    <tr>\n",
       "      <td>700</td>\n",
       "      <td>0.845000</td>\n",
       "      <td>1.175304</td>\n",
       "    </tr>\n",
       "    <tr>\n",
       "      <td>800</td>\n",
       "      <td>0.846500</td>\n",
       "      <td>1.162069</td>\n",
       "    </tr>\n",
       "    <tr>\n",
       "      <td>900</td>\n",
       "      <td>0.614100</td>\n",
       "      <td>1.246720</td>\n",
       "    </tr>\n",
       "    <tr>\n",
       "      <td>1000</td>\n",
       "      <td>0.561900</td>\n",
       "      <td>1.312552</td>\n",
       "    </tr>\n",
       "    <tr>\n",
       "      <td>1100</td>\n",
       "      <td>0.539500</td>\n",
       "      <td>1.293747</td>\n",
       "    </tr>\n",
       "    <tr>\n",
       "      <td>1200</td>\n",
       "      <td>0.533800</td>\n",
       "      <td>1.303831</td>\n",
       "    </tr>\n",
       "  </tbody>\n",
       "</table><p>"
      ]
     },
     "metadata": {},
     "output_type": "display_data"
    },
    {
     "data": {
      "text/plain": [
       "TrainOutput(global_step=1212, training_loss=1.02303412291083, metrics={'train_runtime': 1504.3949, 'train_samples_per_second': 25.776, 'train_steps_per_second': 0.806, 'total_flos': 1.0132565632708608e+16, 'train_loss': 1.02303412291083, 'epoch': 3.0})"
      ]
     },
     "execution_count": 18,
     "metadata": {},
     "output_type": "execute_result"
    }
   ],
   "execution_count": 18
  },
  {
   "metadata": {},
   "cell_type": "markdown",
   "source": "## 5、预测",
   "id": "e62dc97c75646fdb"
  },
  {
   "metadata": {
    "ExecuteTime": {
     "end_time": "2025-01-03T08:24:30.351140Z",
     "start_time": "2025-01-03T08:24:30.314943Z"
    }
   },
   "cell_type": "code",
   "source": "from transformers import pipeline",
   "id": "49d3842d427b61d2",
   "outputs": [],
   "execution_count": 19
  },
  {
   "metadata": {
    "ExecuteTime": {
     "end_time": "2025-01-03T08:35:22.420076Z",
     "start_time": "2025-01-03T08:35:22.403171Z"
    }
   },
   "cell_type": "code",
   "source": "pipe = pipeline(\"question-answering\", model=model, tokenizer=tokenizer, device=0)",
   "id": "fac15ff4425b2b88",
   "outputs": [],
   "execution_count": 42
  },
  {
   "metadata": {
    "ExecuteTime": {
     "end_time": "2025-01-03T08:48:11.506179Z",
     "start_time": "2025-01-03T08:48:11.471832Z"
    }
   },
   "cell_type": "code",
   "source": [
    "for _ in range(2):\n",
    "    result = pipe(context=\n",
    "    [\n",
    "        \"在论文中，作者还分别对浅层和深层的GCN进行了一些实验。在下图中，我们可以看到使用2层或3层的模型可以得到最好的结果。此外，对于深层的GCN（超过7层），反而往往得到不好的性能（虚线蓝色）。\"\n",
    "    ],\n",
    "        question=[\"在GCN多少层模型反而效果很差？\"])\n",
    "    print(result)"
   ],
   "id": "4101e618b196d6ab",
   "outputs": [
    {
     "name": "stdout",
     "output_type": "stream",
     "text": [
      "{'score': 0.0601234957575798, 'start': 62, 'end': 76, 'answer': '对于深层的GCN（超过7层）'}\n",
      "{'score': 0.061391398310661316, 'start': 71, 'end': 75, 'answer': '超过7层'}\n"
     ]
    },
    {
     "name": "stderr",
     "output_type": "stream",
     "text": [
      "/home/lixiaoying/anaconda3/envs/AiMedJupyter/lib/python3.10/site-packages/transformers/pipelines/base.py:1081: UserWarning: You seem to be using the pipelines sequentially on GPU. In order to maximize efficiency please use a dataset\n",
      "  warnings.warn(\n"
     ]
    }
   ],
   "execution_count": 68
  },
  {
   "metadata": {},
   "cell_type": "code",
   "outputs": [],
   "execution_count": null,
   "source": "",
   "id": "53beb2f00ab5962c"
  }
 ],
 "metadata": {
  "kernelspec": {
   "display_name": "Python 3",
   "language": "python",
   "name": "python3"
  },
  "language_info": {
   "codemirror_mode": {
    "name": "ipython",
    "version": 2
   },
   "file_extension": ".py",
   "mimetype": "text/x-python",
   "name": "python",
   "nbconvert_exporter": "python",
   "pygments_lexer": "ipython2",
   "version": "2.7.6"
  }
 },
 "nbformat": 4,
 "nbformat_minor": 5
}
