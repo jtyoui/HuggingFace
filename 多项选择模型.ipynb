{
 "cells": [
  {
   "cell_type": "code",
   "id": "initial_id",
   "metadata": {
    "collapsed": true,
    "ExecuteTime": {
     "end_time": "2025-01-31T13:53:24.571226Z",
     "start_time": "2025-01-31T13:53:24.564138Z"
    }
   },
   "source": [
    "import os\n",
    "\n",
    "os.environ['HF_ENDPOINT'] = 'https://hf-mirror.com'"
   ],
   "outputs": [],
   "execution_count": 1
  },
  {
   "metadata": {
    "ExecuteTime": {
     "end_time": "2025-01-31T13:53:29.793056Z",
     "start_time": "2025-01-31T13:53:24.579237Z"
    }
   },
   "cell_type": "code",
   "source": [
    "from datasets import Dataset\n",
    "from transformers import AutoTokenizer, AutoModelForMultipleChoice, Trainer, TrainingArguments\n",
    "import pandas as pd\n",
    "import evaluate\n",
    "import numpy as np"
   ],
   "id": "c292f91830d865ba",
   "outputs": [],
   "execution_count": 2
  },
  {
   "metadata": {
    "ExecuteTime": {
     "end_time": "2025-01-31T13:53:29.913175Z",
     "start_time": "2025-01-31T13:53:29.866249Z"
    }
   },
   "cell_type": "code",
   "source": [
    "df = pd.read_parquet(\"数据/多项选择模型.parquet\")\n",
    "print(df.shape)\n",
    "df.head()"
   ],
   "id": "43bff3230a3d11f9",
   "outputs": [
    {
     "name": "stdout",
     "output_type": "stream",
     "text": [
      "(100, 4)\n"
     ]
    },
    {
     "data": {
      "text/plain": [
       "                                           documents           question  \\\n",
       "0  [男：你今天晚上有时间吗?我们一起去看电影吧?, 女：你喜欢恐怖片和爱情片，但是我喜欢喜剧片...         女的最喜欢哪种电影?   \n",
       "1         [男：足球比赛是明天上午八点开始吧?, 女：因为天气不好，比赛改到后天下午三点了。]       根据对话，可以知道什么?   \n",
       "2                  [女：今天下午的讨论会开得怎么样?, 男：我觉得发言的人太少了。]  关于这次讨论会，我们可以知道什么?   \n",
       "3  [男：我记得你以前很爱吃巧克力，最近怎么不吃了，是在减肥吗?, 女：是啊，我希望自己能瘦一点儿。]       女的为什么不吃巧克力了?   \n",
       "4  [女：过几天刘明就要从英国回来了。我还真有点儿想他了，记得那年他是刚过完中秋节走的。, 男：...          现在大概是哪一年?   \n",
       "\n",
       "                             choice  answer  \n",
       "0              [恐怖片, 爱情片, 喜剧片, 科幻片]     喜剧片  \n",
       "1          [今天天气不好, 比赛时间变了, 校长忘了时间]  比赛时间变了  \n",
       "2  [会是昨天开的, 男的没有参加, 讨论得不热烈, 参加的人很少]  讨论得不热烈  \n",
       "3              [刷牙了, 要减肥, 口渴了, 吃饱了]     要减肥  \n",
       "4      [2005年, 2010年, 2008年, 2009年]   2010年  "
      ],
      "text/html": [
       "<div>\n",
       "<style scoped>\n",
       "    .dataframe tbody tr th:only-of-type {\n",
       "        vertical-align: middle;\n",
       "    }\n",
       "\n",
       "    .dataframe tbody tr th {\n",
       "        vertical-align: top;\n",
       "    }\n",
       "\n",
       "    .dataframe thead th {\n",
       "        text-align: right;\n",
       "    }\n",
       "</style>\n",
       "<table border=\"1\" class=\"dataframe\">\n",
       "  <thead>\n",
       "    <tr style=\"text-align: right;\">\n",
       "      <th></th>\n",
       "      <th>documents</th>\n",
       "      <th>question</th>\n",
       "      <th>choice</th>\n",
       "      <th>answer</th>\n",
       "    </tr>\n",
       "  </thead>\n",
       "  <tbody>\n",
       "    <tr>\n",
       "      <th>0</th>\n",
       "      <td>[男：你今天晚上有时间吗?我们一起去看电影吧?, 女：你喜欢恐怖片和爱情片，但是我喜欢喜剧片...</td>\n",
       "      <td>女的最喜欢哪种电影?</td>\n",
       "      <td>[恐怖片, 爱情片, 喜剧片, 科幻片]</td>\n",
       "      <td>喜剧片</td>\n",
       "    </tr>\n",
       "    <tr>\n",
       "      <th>1</th>\n",
       "      <td>[男：足球比赛是明天上午八点开始吧?, 女：因为天气不好，比赛改到后天下午三点了。]</td>\n",
       "      <td>根据对话，可以知道什么?</td>\n",
       "      <td>[今天天气不好, 比赛时间变了, 校长忘了时间]</td>\n",
       "      <td>比赛时间变了</td>\n",
       "    </tr>\n",
       "    <tr>\n",
       "      <th>2</th>\n",
       "      <td>[女：今天下午的讨论会开得怎么样?, 男：我觉得发言的人太少了。]</td>\n",
       "      <td>关于这次讨论会，我们可以知道什么?</td>\n",
       "      <td>[会是昨天开的, 男的没有参加, 讨论得不热烈, 参加的人很少]</td>\n",
       "      <td>讨论得不热烈</td>\n",
       "    </tr>\n",
       "    <tr>\n",
       "      <th>3</th>\n",
       "      <td>[男：我记得你以前很爱吃巧克力，最近怎么不吃了，是在减肥吗?, 女：是啊，我希望自己能瘦一点儿。]</td>\n",
       "      <td>女的为什么不吃巧克力了?</td>\n",
       "      <td>[刷牙了, 要减肥, 口渴了, 吃饱了]</td>\n",
       "      <td>要减肥</td>\n",
       "    </tr>\n",
       "    <tr>\n",
       "      <th>4</th>\n",
       "      <td>[女：过几天刘明就要从英国回来了。我还真有点儿想他了，记得那年他是刚过完中秋节走的。, 男：...</td>\n",
       "      <td>现在大概是哪一年?</td>\n",
       "      <td>[2005年, 2010年, 2008年, 2009年]</td>\n",
       "      <td>2010年</td>\n",
       "    </tr>\n",
       "  </tbody>\n",
       "</table>\n",
       "</div>"
      ]
     },
     "execution_count": 3,
     "metadata": {},
     "output_type": "execute_result"
    }
   ],
   "execution_count": 3
  },
  {
   "metadata": {
    "ExecuteTime": {
     "end_time": "2025-01-31T14:01:16.246941Z",
     "start_time": "2025-01-31T14:01:16.213564Z"
    }
   },
   "cell_type": "code",
   "source": [
    "dataset = Dataset.from_pandas(df).train_test_split(test_size=0.1)\n",
    "dataset"
   ],
   "id": "70cd48df0e91124e",
   "outputs": [
    {
     "data": {
      "text/plain": [
       "DatasetDict({\n",
       "    train: Dataset({\n",
       "        features: ['documents', 'question', 'choice', 'answer'],\n",
       "        num_rows: 90\n",
       "    })\n",
       "    test: Dataset({\n",
       "        features: ['documents', 'question', 'choice', 'answer'],\n",
       "        num_rows: 10\n",
       "    })\n",
       "})"
      ]
     },
     "execution_count": 4,
     "metadata": {},
     "output_type": "execute_result"
    }
   ],
   "execution_count": 4
  },
  {
   "metadata": {},
   "cell_type": "markdown",
   "source": "## 2、数据预处理",
   "id": "5fc235042a857c19"
  },
  {
   "metadata": {
    "ExecuteTime": {
     "end_time": "2025-01-31T14:01:20.980526Z",
     "start_time": "2025-01-31T14:01:20.367333Z"
    }
   },
   "cell_type": "code",
   "source": [
    "model_path = \"hfl/chinese-macbert-base\"\n",
    "tokenizer = AutoTokenizer.from_pretrained(model_path)"
   ],
   "id": "c193825ca6e36eee",
   "outputs": [
    {
     "name": "stderr",
     "output_type": "stream",
     "text": [
      "C:\\Users\\jtyou\\miniconda3\\envs\\torch\\Lib\\site-packages\\huggingface_hub\\file_download.py:1150: FutureWarning: `resume_download` is deprecated and will be removed in version 1.0.0. Downloads always resume when possible. If you want to force a new download, use `force_download=True`.\n",
      "  warnings.warn(\n"
     ]
    }
   ],
   "execution_count": 5
  },
  {
   "metadata": {
    "ExecuteTime": {
     "end_time": "2025-01-31T14:01:22.894086Z",
     "start_time": "2025-01-31T14:01:22.887614Z"
    }
   },
   "cell_type": "code",
   "source": [
    "def process_func(examples):\n",
    "    contexts, questions, labels = [], [], []\n",
    "\n",
    "    documents = examples[\"documents\"]\n",
    "    for index, document in enumerate(documents):\n",
    "        context = \"\\n\".join(document)\n",
    "        question = examples[\"question\"][index]\n",
    "        choices = examples[\"choice\"][index] + [\"不知道\"] * 4\n",
    "        answer = examples[\"answer\"][index]\n",
    "\n",
    "        for i in range(4):\n",
    "            contexts.append(context)\n",
    "            questions.append(f\"{question}{choices[i]}\")\n",
    "\n",
    "        labels.append(choices.index(answer))\n",
    "\n",
    "    token = tokenizer(text=contexts,\n",
    "                      text_pair=questions,\n",
    "                      max_length=128,\n",
    "                      truncation=\"only_first\",\n",
    "                      padding=\"max_length\",\n",
    "                      return_tensors=\"pt\",\n",
    "                      )\n",
    "\n",
    "    token = {k: v.reshape(-1, 4, 128) for k, v in token.items()}\n",
    "    token[\"labels\"] = labels\n",
    "    return token"
   ],
   "id": "f0c2f3bce4253a46",
   "outputs": [],
   "execution_count": 6
  },
  {
   "metadata": {
    "ExecuteTime": {
     "end_time": "2025-01-31T14:01:33.373460Z",
     "start_time": "2025-01-31T14:01:33.263784Z"
    }
   },
   "cell_type": "code",
   "source": [
    "dataloader = dataset.map(process_func, batched=True)\n",
    "dataloader[\"test\"]"
   ],
   "id": "d318e7f0ca9a878b",
   "outputs": [
    {
     "data": {
      "text/plain": [
       "  0%|          | 0/1 [00:00<?, ?ba/s]"
      ],
      "application/vnd.jupyter.widget-view+json": {
       "version_major": 2,
       "version_minor": 0,
       "model_id": "57de08e591484b07a40816db2b2e5b50"
      }
     },
     "metadata": {},
     "output_type": "display_data"
    },
    {
     "data": {
      "text/plain": [
       "  0%|          | 0/1 [00:00<?, ?ba/s]"
      ],
      "application/vnd.jupyter.widget-view+json": {
       "version_major": 2,
       "version_minor": 0,
       "model_id": "a94c77f3ead8470b8c1c7a4a751d8d1c"
      }
     },
     "metadata": {},
     "output_type": "display_data"
    },
    {
     "data": {
      "text/plain": [
       "Dataset({\n",
       "    features: ['documents', 'question', 'choice', 'answer', 'input_ids', 'token_type_ids', 'attention_mask', 'labels'],\n",
       "    num_rows: 10\n",
       "})"
      ]
     },
     "execution_count": 8,
     "metadata": {},
     "output_type": "execute_result"
    }
   ],
   "execution_count": 8
  },
  {
   "metadata": {},
   "cell_type": "markdown",
   "source": "## 3、构建模型",
   "id": "b7c951a41428181b"
  },
  {
   "metadata": {
    "ExecuteTime": {
     "end_time": "2025-01-31T14:02:20.538304Z",
     "start_time": "2025-01-31T14:02:18.430167Z"
    }
   },
   "cell_type": "code",
   "source": "model = AutoModelForMultipleChoice.from_pretrained(model_path)",
   "id": "1b8605389bbdf239",
   "outputs": [
    {
     "name": "stderr",
     "output_type": "stream",
     "text": [
      "C:\\Users\\jtyou\\miniconda3\\envs\\torch\\Lib\\site-packages\\huggingface_hub\\file_download.py:1150: FutureWarning: `resume_download` is deprecated and will be removed in version 1.0.0. Downloads always resume when possible. If you want to force a new download, use `force_download=True`.\n",
      "  warnings.warn(\n",
      "C:\\Users\\jtyou\\miniconda3\\envs\\torch\\Lib\\site-packages\\transformers\\modeling_utils.py:415: FutureWarning: You are using `torch.load` with `weights_only=False` (the current default value), which uses the default pickle module implicitly. It is possible to construct malicious pickle data which will execute arbitrary code during unpickling (See https://github.com/pytorch/pytorch/blob/main/SECURITY.md#untrusted-models for more details). In a future release, the default value for `weights_only` will be flipped to `True`. This limits the functions that could be executed during unpickling. Arbitrary objects will no longer be allowed to be loaded via this mode unless they are explicitly allowlisted by the user via `torch.serialization.add_safe_globals`. We recommend you start setting `weights_only=True` for any use case where you don't have full control of the loaded file. Please open an issue on GitHub for any issues related to this experimental feature.\n",
      "  return torch.load(checkpoint_file, map_location=\"cpu\")\n",
      "Some weights of the model checkpoint at hfl/chinese-macbert-base were not used when initializing BertForMultipleChoice: ['cls.predictions.decoder.weight', 'cls.predictions.transform.dense.weight', 'cls.predictions.transform.LayerNorm.weight', 'cls.predictions.decoder.bias', 'cls.seq_relationship.bias', 'cls.predictions.transform.LayerNorm.bias', 'cls.predictions.bias', 'cls.seq_relationship.weight', 'cls.predictions.transform.dense.bias']\n",
      "- This IS expected if you are initializing BertForMultipleChoice from the checkpoint of a model trained on another task or with another architecture (e.g. initializing a BertForSequenceClassification model from a BertForPreTraining model).\n",
      "- This IS NOT expected if you are initializing BertForMultipleChoice from the checkpoint of a model that you expect to be exactly identical (initializing a BertForSequenceClassification model from a BertForSequenceClassification model).\n",
      "Some weights of BertForMultipleChoice were not initialized from the model checkpoint at hfl/chinese-macbert-base and are newly initialized: ['classifier.weight', 'classifier.bias']\n",
      "You should probably TRAIN this model on a down-stream task to be able to use it for predictions and inference.\n"
     ]
    }
   ],
   "execution_count": 9
  },
  {
   "metadata": {},
   "cell_type": "markdown",
   "source": "## 4、创建评估函数",
   "id": "dc2d0b5d3e62f25c"
  },
  {
   "metadata": {
    "ExecuteTime": {
     "end_time": "2025-01-31T14:02:26.103163Z",
     "start_time": "2025-01-31T14:02:25.249751Z"
    }
   },
   "cell_type": "code",
   "source": [
    "accuracy = evaluate.load(\"accuracy\")\n",
    "\n",
    "\n",
    "def compute_metrics(pred):\n",
    "    prediction, label = pred\n",
    "    p = np.argmax(prediction, axis=-1)\n",
    "    return accuracy.compute(predictions=p, references=label)"
   ],
   "id": "95d55832469df1ab",
   "outputs": [
    {
     "name": "stderr",
     "output_type": "stream",
     "text": [
      "Using the latest cached version of the module from C:\\Users\\jtyou\\.cache\\huggingface\\modules\\evaluate_modules\\metrics\\evaluate-metric--accuracy\\f887c0aab52c2d38e1f8a215681126379eca617f96c447638f751434e8e65b14 (last modified on Fri Jan  3 23:07:59 2025) since it couldn't be found locally at evaluate-metric--accuracy, or remotely on the Hugging Face Hub.\n"
     ]
    }
   ],
   "execution_count": 10
  },
  {
   "metadata": {},
   "cell_type": "markdown",
   "source": "## 5、创建训练参数",
   "id": "3cfd752ef80e3024"
  },
  {
   "metadata": {
    "ExecuteTime": {
     "end_time": "2025-01-31T14:02:54.046263Z",
     "start_time": "2025-01-31T14:02:53.989769Z"
    }
   },
   "cell_type": "code",
   "source": [
    "args = TrainingArguments(\n",
    "    output_dir=\"模型\",\n",
    "    eval_strategy=\"steps\",\n",
    "    per_device_train_batch_size=8,\n",
    "    per_device_eval_batch_size=8,\n",
    "    weight_decay=0.01,\n",
    "    learning_rate=1e-5,\n",
    "    num_train_epochs=3,\n",
    "    eval_steps=100,\n",
    "    logging_steps=100,\n",
    "    save_steps=100,\n",
    "    save_total_limit=1,\n",
    "    load_best_model_at_end=True,\n",
    ")"
   ],
   "id": "37c6e630dbf56e7b",
   "outputs": [],
   "execution_count": 12
  },
  {
   "metadata": {},
   "cell_type": "markdown",
   "source": "## 6、创建训练器",
   "id": "a2065b8caabbcc5a"
  },
  {
   "metadata": {
    "ExecuteTime": {
     "end_time": "2025-01-31T14:02:56.978800Z",
     "start_time": "2025-01-31T14:02:56.697359Z"
    }
   },
   "cell_type": "code",
   "source": [
    "train = Trainer(\n",
    "    model=model,\n",
    "    args=args,\n",
    "    compute_metrics=compute_metrics,\n",
    "    train_dataset=dataloader[\"train\"],\n",
    "    eval_dataset=dataloader[\"test\"]\n",
    ")"
   ],
   "id": "1c3bd5ae3f4c2805",
   "outputs": [],
   "execution_count": 13
  },
  {
   "metadata": {},
   "cell_type": "markdown",
   "source": "## 7、训练",
   "id": "ff2848a464113db6"
  },
  {
   "metadata": {
    "ExecuteTime": {
     "end_time": "2025-01-31T14:03:38.643359Z",
     "start_time": "2025-01-31T14:02:58.944926Z"
    }
   },
   "cell_type": "code",
   "source": "train.train()",
   "id": "5c0e183cbb76e781",
   "outputs": [
    {
     "name": "stderr",
     "output_type": "stream",
     "text": [
      "The following columns in the training set don't have a corresponding argument in `BertForMultipleChoice.forward` and have been ignored: documents, choice, question, answer. If documents, choice, question, answer are not expected by `BertForMultipleChoice.forward`,  you can safely ignore this message.\n",
      "C:\\Users\\jtyou\\miniconda3\\envs\\torch\\Lib\\site-packages\\transformers\\optimization.py:306: FutureWarning: This implementation of AdamW is deprecated and will be removed in a future version. Use the PyTorch implementation torch.optim.AdamW instead, or set `no_deprecation_warning=True` to disable this warning\n",
      "  warnings.warn(\n",
      "***** Running training *****\n",
      "  Num examples = 90\n",
      "  Num Epochs = 3\n",
      "  Instantaneous batch size per device = 8\n",
      "  Total train batch size (w. parallel, distributed & accumulation) = 8\n",
      "  Gradient Accumulation steps = 1\n",
      "  Total optimization steps = 36\n",
      "  Number of trainable parameters = 102268417\n"
     ]
    },
    {
     "data": {
      "text/plain": [
       "<IPython.core.display.HTML object>"
      ],
      "text/html": [
       "\n",
       "    <div>\n",
       "      \n",
       "      <progress value='5' max='36' style='width:300px; height:20px; vertical-align: middle;'></progress>\n",
       "      [ 5/36 00:25 < 04:23, 0.12 it/s, Epoch 0.33/3]\n",
       "    </div>\n",
       "    <table border=\"1\" class=\"dataframe\">\n",
       "  <thead>\n",
       " <tr style=\"text-align: left;\">\n",
       "      <th>Step</th>\n",
       "      <th>Training Loss</th>\n",
       "      <th>Validation Loss</th>\n",
       "    </tr>\n",
       "  </thead>\n",
       "  <tbody>\n",
       "  </tbody>\n",
       "</table><p>"
      ]
     },
     "metadata": {},
     "output_type": "display_data"
    },
    {
     "name": "stderr",
     "output_type": "stream",
     "text": [
      "\n",
      "KeyboardInterrupt\n",
      "\n"
     ]
    }
   ],
   "execution_count": 14
  },
  {
   "metadata": {},
   "cell_type": "code",
   "outputs": [],
   "execution_count": null,
   "source": "",
   "id": "1bf45d536d8c3f9a"
  }
 ],
 "metadata": {
  "kernelspec": {
   "display_name": "Python 3",
   "language": "python",
   "name": "python3"
  },
  "language_info": {
   "codemirror_mode": {
    "name": "ipython",
    "version": 2
   },
   "file_extension": ".py",
   "mimetype": "text/x-python",
   "name": "python",
   "nbconvert_exporter": "python",
   "pygments_lexer": "ipython2",
   "version": "2.7.6"
  }
 },
 "nbformat": 4,
 "nbformat_minor": 5
}
