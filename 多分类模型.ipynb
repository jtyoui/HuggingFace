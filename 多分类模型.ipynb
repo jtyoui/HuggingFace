{
 "cells": [
  {
   "metadata": {
    "ExecuteTime": {
     "end_time": "2025-01-31T13:34:25.359484Z",
     "start_time": "2025-01-31T13:34:25.351356Z"
    }
   },
   "cell_type": "code",
   "source": [
    "import os\n",
    "\n",
    "os.environ['CUDA_VISIBLE_DEVICES'] = '1'\n",
    "os.environ['HF_ENDPOINT'] = 'https://hf-mirror.com'"
   ],
   "id": "f36a7bf93e3c975a",
   "outputs": [],
   "execution_count": 1
  },
  {
   "metadata": {
    "ExecuteTime": {
     "end_time": "2025-01-31T13:34:30.652513Z",
     "start_time": "2025-01-31T13:34:25.367497Z"
    }
   },
   "cell_type": "code",
   "source": [
    "from transformers import AutoModelForSequenceClassification, AutoTokenizer, Trainer, TrainingArguments, DataCollatorWithPadding\n",
    "import pandas as pd\n",
    "from datasets import Dataset\n",
    "import numpy as np\n",
    "import evaluate"
   ],
   "id": "fbb84c040ed84309",
   "outputs": [],
   "execution_count": 2
  },
  {
   "metadata": {
    "ExecuteTime": {
     "end_time": "2025-01-31T13:37:42.236343Z",
     "start_time": "2025-01-31T13:37:42.200940Z"
    }
   },
   "cell_type": "code",
   "source": [
    "df = pd.read_parquet(\"数据/多分类模型.parquet\")\n",
    "print(df.shape)\n",
    "df.head()"
   ],
   "id": "bf920034ca3f3528",
   "outputs": [
    {
     "name": "stdout",
     "output_type": "stream",
     "text": [
      "(100, 2)\n"
     ]
    },
    {
     "data": {
      "text/plain": [
       "                                                Data  Label\n",
       "0  KeyWords: retroviruses; retroviral protease su...      1\n",
       "1  KeyWords: bone morphogenetic proteins; chemopr...      0\n",
       "2  KeyWords: tetrahydroisoquinoline; szyldergemaj...      0\n",
       "3  KeyWords: asialoglycoproteinreceptor-mediated ...      1\n",
       "4  KeyWords: ddchaohui@sina.com; colorectal cance...      0"
      ],
      "text/html": [
       "<div>\n",
       "<style scoped>\n",
       "    .dataframe tbody tr th:only-of-type {\n",
       "        vertical-align: middle;\n",
       "    }\n",
       "\n",
       "    .dataframe tbody tr th {\n",
       "        vertical-align: top;\n",
       "    }\n",
       "\n",
       "    .dataframe thead th {\n",
       "        text-align: right;\n",
       "    }\n",
       "</style>\n",
       "<table border=\"1\" class=\"dataframe\">\n",
       "  <thead>\n",
       "    <tr style=\"text-align: right;\">\n",
       "      <th></th>\n",
       "      <th>Data</th>\n",
       "      <th>Label</th>\n",
       "    </tr>\n",
       "  </thead>\n",
       "  <tbody>\n",
       "    <tr>\n",
       "      <th>0</th>\n",
       "      <td>KeyWords: retroviruses; retroviral protease su...</td>\n",
       "      <td>1</td>\n",
       "    </tr>\n",
       "    <tr>\n",
       "      <th>1</th>\n",
       "      <td>KeyWords: bone morphogenetic proteins; chemopr...</td>\n",
       "      <td>0</td>\n",
       "    </tr>\n",
       "    <tr>\n",
       "      <th>2</th>\n",
       "      <td>KeyWords: tetrahydroisoquinoline; szyldergemaj...</td>\n",
       "      <td>0</td>\n",
       "    </tr>\n",
       "    <tr>\n",
       "      <th>3</th>\n",
       "      <td>KeyWords: asialoglycoproteinreceptor-mediated ...</td>\n",
       "      <td>1</td>\n",
       "    </tr>\n",
       "    <tr>\n",
       "      <th>4</th>\n",
       "      <td>KeyWords: ddchaohui@sina.com; colorectal cance...</td>\n",
       "      <td>0</td>\n",
       "    </tr>\n",
       "  </tbody>\n",
       "</table>\n",
       "</div>"
      ]
     },
     "execution_count": 5,
     "metadata": {},
     "output_type": "execute_result"
    }
   ],
   "execution_count": 5
  },
  {
   "metadata": {},
   "cell_type": "markdown",
   "source": "### 加载预训练模型",
   "id": "88431b369a72d82b"
  },
  {
   "metadata": {},
   "cell_type": "markdown",
   "source": "如果是多标签分类只需要增加 problem_type=\"multi_label_classification\" 参数",
   "id": "cae965875c04dc5e"
  },
  {
   "metadata": {},
   "cell_type": "code",
   "source": [
    "model_path = \"NeuML/pubmedbert-base-embeddings\"\n",
    "tokenizer = AutoTokenizer.from_pretrained(model_path, trust_remote_code=True)\n",
    "model = AutoModelForSequenceClassification.from_pretrained(model_path, num_labels=2, trust_remote_code=True)"
   ],
   "id": "45f548b12b890bdc",
   "outputs": [],
   "execution_count": null
  },
  {
   "metadata": {},
   "cell_type": "markdown",
   "source": "## 准备数据",
   "id": "1a262f12c775684"
  },
  {
   "metadata": {},
   "cell_type": "code",
   "source": [
    "def tokenize(text):\n",
    "    token = tokenizer(text[\"Data\"], max_length=512, truncation=True)\n",
    "    token[\"labels\"] = text[\"Label\"]\n",
    "    return token\n",
    "\n",
    "\n",
    "datasets = Dataset.from_pandas(df).train_test_split(test_size=0.1)\n",
    "dataloader = datasets.map(tokenize, batched=True, remove_columns=datasets[\"test\"].column_names)"
   ],
   "id": "8e480af9aac6ac9a",
   "outputs": [],
   "execution_count": null
  },
  {
   "metadata": {},
   "cell_type": "markdown",
   "source": "## 评估标准",
   "id": "71ed3b668fac0fbd"
  },
  {
   "metadata": {},
   "cell_type": "code",
   "source": [
    "metric = evaluate.combine(\n",
    "    [\n",
    "        evaluate.load(\"accuracy\", average=\"macro\"),\n",
    "        evaluate.load(\"f1\", average=\"macro\"),\n",
    "        evaluate.load(\"precision\", average=\"macro\"),\n",
    "        evaluate.load(\"recall\", average=\"macro\"),\n",
    "    ]\n",
    ")\n",
    "\n",
    "\n",
    "def compute_metrics(eval_pred):\n",
    "    logit, labels = eval_pred\n",
    "    predictions = np.argmax(logit, axis=-1)\n",
    "    return metric.compute(predictions, labels)"
   ],
   "id": "fe65b4519990594b",
   "outputs": [],
   "execution_count": null
  },
  {
   "metadata": {},
   "cell_type": "markdown",
   "source": "## 训练器",
   "id": "f75f95c9729c1a9b"
  },
  {
   "metadata": {},
   "cell_type": "code",
   "source": [
    "args = TrainingArguments(output_dir=\"./model\",\n",
    "                         eval_steps=100,\n",
    "                         eval_strategy=\"steps\",\n",
    "                         per_device_train_batch_size=16,\n",
    "                         per_device_eval_batch_size=32,\n",
    "                         logging_steps=100,\n",
    "                         save_steps=100,\n",
    "                         save_total_limit=2,\n",
    "                         learning_rate=1e-5,\n",
    "                         num_train_epochs=5,\n",
    "                         metric_for_best_model=\"f1\",\n",
    "                         load_best_model_at_end=True,\n",
    "                         weight_decay=0.01,\n",
    "                         )"
   ],
   "id": "fbdd160c1e3525c0",
   "outputs": [],
   "execution_count": null
  },
  {
   "metadata": {},
   "cell_type": "code",
   "source": [
    "train = Trainer(\n",
    "    model=model,\n",
    "    args=args,\n",
    "    train_dataset=dataloader[\"train\"],\n",
    "    eval_dataset=dataloader[\"test\"],\n",
    "    compute_metrics=compute_metrics,\n",
    "    data_collator=DataCollatorWithPadding(tokenizer=tokenizer, max_length=512, padding=\"max_length\"),\n",
    ")"
   ],
   "id": "dca6c0d4bcc8d655",
   "outputs": [],
   "execution_count": null
  },
  {
   "metadata": {},
   "cell_type": "markdown",
   "source": "# 训练",
   "id": "51cccce21efe008d"
  },
  {
   "metadata": {},
   "cell_type": "code",
   "source": "train.train()",
   "id": "d868267c6b3d6a7e",
   "outputs": [],
   "execution_count": null
  },
  {
   "metadata": {},
   "cell_type": "markdown",
   "source": "# 测试",
   "id": "aca64438b44aca6f"
  },
  {
   "metadata": {},
   "cell_type": "code",
   "source": "train.evaluate(dataloader[\"test\"])",
   "id": "f3f8da623fb0c49f",
   "outputs": [],
   "execution_count": null
  },
  {
   "metadata": {},
   "cell_type": "markdown",
   "source": "# 推理\n",
   "id": "faa7dafe717a208a"
  },
  {
   "metadata": {},
   "cell_type": "code",
   "source": "from transformers import pipeline",
   "id": "23a55c041a372d7e",
   "outputs": [],
   "execution_count": null
  },
  {
   "metadata": {},
   "cell_type": "code",
   "source": "infer = pipeline(\"text-classification\", model=model, tokenizer=tokenizer, device=0)",
   "id": "93428458dbd633d4",
   "outputs": [],
   "execution_count": null
  },
  {
   "metadata": {},
   "cell_type": "code",
   "source": "infer([\"KeyWords: bone morphogenetic proteins; chemoprevention; cancer metastasis;\"])",
   "id": "a69e3c15f042d6b1",
   "outputs": [],
   "execution_count": null
  }
 ],
 "metadata": {
  "kernelspec": {
   "display_name": "Python 3",
   "language": "python",
   "name": "python3"
  },
  "language_info": {
   "codemirror_mode": {
    "name": "ipython",
    "version": 2
   },
   "file_extension": ".py",
   "mimetype": "text/x-python",
   "name": "python",
   "nbconvert_exporter": "python",
   "pygments_lexer": "ipython2",
   "version": "2.7.6"
  }
 },
 "nbformat": 4,
 "nbformat_minor": 5
}
