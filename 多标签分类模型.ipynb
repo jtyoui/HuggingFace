{
 "cells": [
  {
   "cell_type": "code",
   "id": "initial_id",
   "metadata": {
    "collapsed": true,
    "ExecuteTime": {
     "end_time": "2025-01-31T13:51:46.327148Z",
     "start_time": "2025-01-31T13:51:46.319151Z"
    }
   },
   "source": [
    "import os\n",
    "\n",
    "os.environ['CUDA_VISIBLE_DEVICES'] = '1'\n",
    "os.environ['HF_ENDPOINT'] = 'https://hf-mirror.com'"
   ],
   "outputs": [],
   "execution_count": 1
  },
  {
   "metadata": {
    "ExecuteTime": {
     "end_time": "2025-01-31T13:51:51.524717Z",
     "start_time": "2025-01-31T13:51:46.334513Z"
    }
   },
   "cell_type": "code",
   "source": [
    "from transformers import AutoModelForSequenceClassification, AutoTokenizer, TrainingArguments, Trainer, DataCollatorWithPadding\n",
    "import pandas as pd\n",
    "from datasets import Dataset\n",
    "import torch\n",
    "from sklearn.metrics import precision_recall_fscore_support\n",
    "import numpy as np"
   ],
   "id": "43dce349fdcdafd1",
   "outputs": [],
   "execution_count": 2
  },
  {
   "metadata": {
    "ExecuteTime": {
     "end_time": "2025-01-31T13:51:51.642406Z",
     "start_time": "2025-01-31T13:51:51.602541Z"
    }
   },
   "cell_type": "code",
   "source": [
    "df = pd.read_parquet(\"数据/多标签分类模型.parquet\")\n",
    "print(df.shape)\n",
    "df"
   ],
   "id": "e5143b2e143b00c1",
   "outputs": [
    {
     "name": "stdout",
     "output_type": "stream",
     "text": [
      "(100, 3)\n"
     ]
    },
    {
     "data": {
      "text/plain": [
       "                                                title  \\\n",
       "0   Oct-3/4 regulates stem cell identity and cell ...   \n",
       "1   Insulin directly stimulates VEGF-A production ...   \n",
       "2   Routine HIV screening--what counts in evidence...   \n",
       "3   Ultrasensitive fluorescent proteins for imagin...   \n",
       "4   Active VSG expression sites in Trypanosoma bru...   \n",
       "..                                                ...   \n",
       "95  Decoding the signaling of a GPCR heteromeric c...   \n",
       "96  Ultrasound imaging for regional anesthesia in ...   \n",
       "97  Quality of life, social support, and uncertain...   \n",
       "98  Long-term safety and efficacy of indacaterol, ...   \n",
       "99  Comparison of high vs. normal/low protein diet...   \n",
       "\n",
       "                                             abstract  \\\n",
       "0   Although the transcriptional regulatory events...   \n",
       "1   Podocytes are critically important for maintai...   \n",
       "2                                                       \n",
       "3   Fluorescent calcium sensors are widely used to...   \n",
       "4   African trypanosomes regulate transcription di...   \n",
       "..                                                ...   \n",
       "95  Atypical antipsychotic drugs, such as clozapin...   \n",
       "96  The use of ultrasound guidance has provided an...   \n",
       "97  PURPOSE/OBJECTIVES: To examine the differences...   \n",
       "98  BACKGROUND: Indacaterol is an inhaled, long-ac...   \n",
       "99  BACKGROUND: It was the aim of the present syst...   \n",
       "\n",
       "                               labels  \n",
       "0                          [No Label]  \n",
       "1                       [New Finding]  \n",
       "2                     [Controversial]  \n",
       "3                 [Technical Advance]  \n",
       "4    [New Finding, Technical Advance]  \n",
       "..                                ...  \n",
       "95   [New Finding, Novel Drug Target]  \n",
       "96  [Technical Advance, Confirmation]  \n",
       "97                     [Confirmation]  \n",
       "98                         [No Label]  \n",
       "99                      [New Finding]  \n",
       "\n",
       "[100 rows x 3 columns]"
      ],
      "text/html": [
       "<div>\n",
       "<style scoped>\n",
       "    .dataframe tbody tr th:only-of-type {\n",
       "        vertical-align: middle;\n",
       "    }\n",
       "\n",
       "    .dataframe tbody tr th {\n",
       "        vertical-align: top;\n",
       "    }\n",
       "\n",
       "    .dataframe thead th {\n",
       "        text-align: right;\n",
       "    }\n",
       "</style>\n",
       "<table border=\"1\" class=\"dataframe\">\n",
       "  <thead>\n",
       "    <tr style=\"text-align: right;\">\n",
       "      <th></th>\n",
       "      <th>title</th>\n",
       "      <th>abstract</th>\n",
       "      <th>labels</th>\n",
       "    </tr>\n",
       "  </thead>\n",
       "  <tbody>\n",
       "    <tr>\n",
       "      <th>0</th>\n",
       "      <td>Oct-3/4 regulates stem cell identity and cell ...</td>\n",
       "      <td>Although the transcriptional regulatory events...</td>\n",
       "      <td>[No Label]</td>\n",
       "    </tr>\n",
       "    <tr>\n",
       "      <th>1</th>\n",
       "      <td>Insulin directly stimulates VEGF-A production ...</td>\n",
       "      <td>Podocytes are critically important for maintai...</td>\n",
       "      <td>[New Finding]</td>\n",
       "    </tr>\n",
       "    <tr>\n",
       "      <th>2</th>\n",
       "      <td>Routine HIV screening--what counts in evidence...</td>\n",
       "      <td></td>\n",
       "      <td>[Controversial]</td>\n",
       "    </tr>\n",
       "    <tr>\n",
       "      <th>3</th>\n",
       "      <td>Ultrasensitive fluorescent proteins for imagin...</td>\n",
       "      <td>Fluorescent calcium sensors are widely used to...</td>\n",
       "      <td>[Technical Advance]</td>\n",
       "    </tr>\n",
       "    <tr>\n",
       "      <th>4</th>\n",
       "      <td>Active VSG expression sites in Trypanosoma bru...</td>\n",
       "      <td>African trypanosomes regulate transcription di...</td>\n",
       "      <td>[New Finding, Technical Advance]</td>\n",
       "    </tr>\n",
       "    <tr>\n",
       "      <th>...</th>\n",
       "      <td>...</td>\n",
       "      <td>...</td>\n",
       "      <td>...</td>\n",
       "    </tr>\n",
       "    <tr>\n",
       "      <th>95</th>\n",
       "      <td>Decoding the signaling of a GPCR heteromeric c...</td>\n",
       "      <td>Atypical antipsychotic drugs, such as clozapin...</td>\n",
       "      <td>[New Finding, Novel Drug Target]</td>\n",
       "    </tr>\n",
       "    <tr>\n",
       "      <th>96</th>\n",
       "      <td>Ultrasound imaging for regional anesthesia in ...</td>\n",
       "      <td>The use of ultrasound guidance has provided an...</td>\n",
       "      <td>[Technical Advance, Confirmation]</td>\n",
       "    </tr>\n",
       "    <tr>\n",
       "      <th>97</th>\n",
       "      <td>Quality of life, social support, and uncertain...</td>\n",
       "      <td>PURPOSE/OBJECTIVES: To examine the differences...</td>\n",
       "      <td>[Confirmation]</td>\n",
       "    </tr>\n",
       "    <tr>\n",
       "      <th>98</th>\n",
       "      <td>Long-term safety and efficacy of indacaterol, ...</td>\n",
       "      <td>BACKGROUND: Indacaterol is an inhaled, long-ac...</td>\n",
       "      <td>[No Label]</td>\n",
       "    </tr>\n",
       "    <tr>\n",
       "      <th>99</th>\n",
       "      <td>Comparison of high vs. normal/low protein diet...</td>\n",
       "      <td>BACKGROUND: It was the aim of the present syst...</td>\n",
       "      <td>[New Finding]</td>\n",
       "    </tr>\n",
       "  </tbody>\n",
       "</table>\n",
       "<p>100 rows × 3 columns</p>\n",
       "</div>"
      ]
     },
     "execution_count": 3,
     "metadata": {},
     "output_type": "execute_result"
    }
   ],
   "execution_count": 3
  },
  {
   "metadata": {
    "ExecuteTime": {
     "end_time": "2025-01-17T03:51:27.950121Z",
     "start_time": "2025-01-17T03:51:27.793883Z"
    }
   },
   "cell_type": "code",
   "source": [
    "label2idx = {}\n",
    "count = {}\n",
    "\n",
    "for labels in df[\"labels\"].values:\n",
    "    for label in labels:\n",
    "        if label not in label2idx:\n",
    "            label2idx[label] = len(label2idx)\n",
    "            count[label] = 1\n",
    "        else:\n",
    "            count[label] += 1\n",
    "count"
   ],
   "id": "23d2578429a5e841",
   "outputs": [
    {
     "data": {
      "text/plain": [
       "{'No Label': 5741,\n",
       " 'Controversial': 13959,\n",
       " 'Technical Advance': 31197,\n",
       " 'New Finding': 67240,\n",
       " 'Good for Teaching': 30255,\n",
       " 'Confirmation': 37176,\n",
       " 'Interesting Hypothesis': 44630,\n",
       " 'Novel Drug Target': 11754}"
      ]
     },
     "execution_count": 33,
     "metadata": {},
     "output_type": "execute_result"
    }
   ],
   "execution_count": 33
  },
  {
   "metadata": {},
   "cell_type": "markdown",
   "source": "## 1、加载预训练模型",
   "id": "d7950915b26bd602"
  },
  {
   "metadata": {
    "ExecuteTime": {
     "end_time": "2025-01-17T06:09:27.820626Z",
     "start_time": "2025-01-17T06:09:27.815527Z"
    }
   },
   "cell_type": "code",
   "source": "premodel = \"NeuML/pubmedbert-base-embeddings\"",
   "id": "8f93e27c0dce6cb1",
   "outputs": [],
   "execution_count": 51
  },
  {
   "metadata": {
    "ExecuteTime": {
     "end_time": "2025-01-17T03:51:29.375191Z",
     "start_time": "2025-01-17T03:51:28.065852Z"
    }
   },
   "cell_type": "code",
   "source": "tokenizer = AutoTokenizer.from_pretrained(premodel)",
   "id": "adf81b19e9aba888",
   "outputs": [],
   "execution_count": 35
  },
  {
   "metadata": {
    "ExecuteTime": {
     "end_time": "2025-01-17T03:51:30.098850Z",
     "start_time": "2025-01-17T03:51:29.400381Z"
    }
   },
   "cell_type": "code",
   "source": [
    "model = AutoModelForSequenceClassification.from_pretrained(premodel,\n",
    "                                                           num_labels=len(label2idx),\n",
    "                                                           problem_type=\"multi_label_classification\",\n",
    "                                                           )"
   ],
   "id": "2eb74aa193e225a9",
   "outputs": [
    {
     "name": "stderr",
     "output_type": "stream",
     "text": [
      "Some weights of BertForSequenceClassification were not initialized from the model checkpoint at bionlp/bluebert_pubmed_mimic_uncased_L-12_H-768_A-12 and are newly initialized: ['classifier.bias', 'classifier.weight']\n",
      "You should probably TRAIN this model on a down-stream task to be able to use it for predictions and inference.\n"
     ]
    }
   ],
   "execution_count": 36
  },
  {
   "metadata": {},
   "cell_type": "markdown",
   "source": "## 2、准备数据",
   "id": "49912f116ded9934"
  },
  {
   "metadata": {},
   "cell_type": "code",
   "source": [
    "def process_fn(text):\n",
    "    token = tokenizer(text[\"abstract\"], text_pair=text[\"title\"], max_length=512, truncation=True, padding=\"max_length\")\n",
    "    num = [[label2idx[label_] for label_ in labels_] for labels_ in text[\"labels\"]]\n",
    "    one_hot_labels = np.zeros((len(num), len(label2idx)), dtype=float)\n",
    "    for idx, key in enumerate(num):\n",
    "        one_hot_labels[idx, key] = 1.0\n",
    "    token[\"labels\"] = one_hot_labels.tolist()\n",
    "    return token\n",
    "\n",
    "\n",
    "datasets = Dataset.from_pandas(df).train_test_split(test_size=0.1, seed=2025)\n",
    "dataloader = datasets.map(process_fn, batched=True, remove_columns=[\"title\", \"abstract\"])\n",
    "dataloader"
   ],
   "id": "c9d56a5e11161219",
   "outputs": [],
   "execution_count": null
  },
  {
   "metadata": {},
   "cell_type": "markdown",
   "source": "## 3、评估标准",
   "id": "8933495608dccd7a"
  },
  {
   "metadata": {
    "ExecuteTime": {
     "end_time": "2025-01-17T03:52:20.124405Z",
     "start_time": "2025-01-17T03:52:20.120881Z"
    }
   },
   "cell_type": "code",
   "source": [
    "def compute_metrics(values):\n",
    "    predict, target = values\n",
    "    predict = (torch.sigmoid(torch.tensor(predict)) > 0.5).int().numpy()\n",
    "    precision, recall, f1, _ = precision_recall_fscore_support(predict, target, average=\"weighted\", zero_division=0)\n",
    "    return {\"precision\": precision, \"recall\": recall, \"f1\": f1}"
   ],
   "id": "1d6c32883a5e84fb",
   "outputs": [],
   "execution_count": 38
  },
  {
   "metadata": {},
   "cell_type": "markdown",
   "source": "## 4、超参数",
   "id": "fa00540fc72a2b1f"
  },
  {
   "metadata": {
    "ExecuteTime": {
     "end_time": "2025-01-17T03:52:20.225871Z",
     "start_time": "2025-01-17T03:52:20.167106Z"
    }
   },
   "cell_type": "code",
   "source": [
    "args = TrainingArguments(output_dir=\"模型\",\n",
    "                         eval_steps=200,\n",
    "                         eval_strategy=\"steps\",\n",
    "                         per_device_train_batch_size=64,\n",
    "                         per_device_eval_batch_size=64,\n",
    "                         logging_steps=200,\n",
    "                         save_steps=200,\n",
    "                         save_total_limit=3,\n",
    "                         learning_rate=1e-5,\n",
    "                         num_train_epochs=2,\n",
    "                         metric_for_best_model=\"f1\",\n",
    "                         weight_decay=0.01,\n",
    "                         )"
   ],
   "id": "ae4cca85a388a897",
   "outputs": [],
   "execution_count": 39
  },
  {
   "metadata": {},
   "cell_type": "markdown",
   "source": "## 5、训练器",
   "id": "702e2e74246ee266"
  },
  {
   "metadata": {
    "ExecuteTime": {
     "end_time": "2025-01-17T03:52:20.447170Z",
     "start_time": "2025-01-17T03:52:20.258411Z"
    }
   },
   "cell_type": "code",
   "source": [
    "trainer = Trainer(\n",
    "    model=model,\n",
    "    args=args,\n",
    "    train_dataset=dataloader[\"train\"],\n",
    "    eval_dataset=dataloader[\"test\"],\n",
    "    compute_metrics=compute_metrics,\n",
    "    data_collator=DataCollatorWithPadding(tokenizer=tokenizer, return_tensors=\"pt\", padding=\"max_length\",\n",
    "                                          max_length=512),\n",
    ")"
   ],
   "id": "cdebe3c737179eb4",
   "outputs": [],
   "execution_count": 40
  },
  {
   "metadata": {},
   "cell_type": "markdown",
   "source": "## 6、训练",
   "id": "a6e12537b28a26be"
  },
  {
   "metadata": {
    "ExecuteTime": {
     "end_time": "2025-01-17T05:29:04.139573Z",
     "start_time": "2025-01-17T03:52:20.469648Z"
    }
   },
   "cell_type": "code",
   "source": "trainer.train()",
   "id": "37611b78ba4a6d2e",
   "outputs": [
    {
     "data": {
      "text/plain": [
       "<IPython.core.display.HTML object>"
      ],
      "text/html": [
       "\n",
       "    <div>\n",
       "      \n",
       "      <progress value='3544' max='3544' style='width:300px; height:20px; vertical-align: middle;'></progress>\n",
       "      [3544/3544 1:36:41, Epoch 2/2]\n",
       "    </div>\n",
       "    <table border=\"1\" class=\"dataframe\">\n",
       "  <thead>\n",
       " <tr style=\"text-align: left;\">\n",
       "      <th>Step</th>\n",
       "      <th>Training Loss</th>\n",
       "      <th>Validation Loss</th>\n",
       "      <th>Precision</th>\n",
       "      <th>Recall</th>\n",
       "      <th>F1</th>\n",
       "    </tr>\n",
       "  </thead>\n",
       "  <tbody>\n",
       "    <tr>\n",
       "      <td>200</td>\n",
       "      <td>0.488900</td>\n",
       "      <td>0.445237</td>\n",
       "      <td>0.555680</td>\n",
       "      <td>0.726675</td>\n",
       "      <td>0.611891</td>\n",
       "    </tr>\n",
       "    <tr>\n",
       "      <td>400</td>\n",
       "      <td>0.430700</td>\n",
       "      <td>0.425587</td>\n",
       "      <td>0.543609</td>\n",
       "      <td>0.722766</td>\n",
       "      <td>0.603532</td>\n",
       "    </tr>\n",
       "    <tr>\n",
       "      <td>600</td>\n",
       "      <td>0.416300</td>\n",
       "      <td>0.413126</td>\n",
       "      <td>0.581398</td>\n",
       "      <td>0.674085</td>\n",
       "      <td>0.608502</td>\n",
       "    </tr>\n",
       "    <tr>\n",
       "      <td>800</td>\n",
       "      <td>0.411800</td>\n",
       "      <td>0.408578</td>\n",
       "      <td>0.562283</td>\n",
       "      <td>0.687202</td>\n",
       "      <td>0.606489</td>\n",
       "    </tr>\n",
       "    <tr>\n",
       "      <td>1000</td>\n",
       "      <td>0.408200</td>\n",
       "      <td>0.406438</td>\n",
       "      <td>0.576044</td>\n",
       "      <td>0.693001</td>\n",
       "      <td>0.615277</td>\n",
       "    </tr>\n",
       "    <tr>\n",
       "      <td>1200</td>\n",
       "      <td>0.407100</td>\n",
       "      <td>0.402191</td>\n",
       "      <td>0.573270</td>\n",
       "      <td>0.682707</td>\n",
       "      <td>0.611866</td>\n",
       "    </tr>\n",
       "    <tr>\n",
       "      <td>1400</td>\n",
       "      <td>0.400600</td>\n",
       "      <td>0.401536</td>\n",
       "      <td>0.578785</td>\n",
       "      <td>0.686751</td>\n",
       "      <td>0.616167</td>\n",
       "    </tr>\n",
       "    <tr>\n",
       "      <td>1600</td>\n",
       "      <td>0.400000</td>\n",
       "      <td>0.400529</td>\n",
       "      <td>0.561525</td>\n",
       "      <td>0.719454</td>\n",
       "      <td>0.612874</td>\n",
       "    </tr>\n",
       "    <tr>\n",
       "      <td>1800</td>\n",
       "      <td>0.400200</td>\n",
       "      <td>0.398545</td>\n",
       "      <td>0.564559</td>\n",
       "      <td>0.704470</td>\n",
       "      <td>0.614178</td>\n",
       "    </tr>\n",
       "    <tr>\n",
       "      <td>2000</td>\n",
       "      <td>0.393700</td>\n",
       "      <td>0.396637</td>\n",
       "      <td>0.557625</td>\n",
       "      <td>0.694708</td>\n",
       "      <td>0.609875</td>\n",
       "    </tr>\n",
       "    <tr>\n",
       "      <td>2200</td>\n",
       "      <td>0.392000</td>\n",
       "      <td>0.396706</td>\n",
       "      <td>0.546298</td>\n",
       "      <td>0.699505</td>\n",
       "      <td>0.604915</td>\n",
       "    </tr>\n",
       "    <tr>\n",
       "      <td>2400</td>\n",
       "      <td>0.392600</td>\n",
       "      <td>0.396911</td>\n",
       "      <td>0.555310</td>\n",
       "      <td>0.706479</td>\n",
       "      <td>0.608744</td>\n",
       "    </tr>\n",
       "    <tr>\n",
       "      <td>2600</td>\n",
       "      <td>0.392800</td>\n",
       "      <td>0.394676</td>\n",
       "      <td>0.539166</td>\n",
       "      <td>0.701175</td>\n",
       "      <td>0.602164</td>\n",
       "    </tr>\n",
       "    <tr>\n",
       "      <td>2800</td>\n",
       "      <td>0.391400</td>\n",
       "      <td>0.393854</td>\n",
       "      <td>0.575760</td>\n",
       "      <td>0.693540</td>\n",
       "      <td>0.618751</td>\n",
       "    </tr>\n",
       "    <tr>\n",
       "      <td>3000</td>\n",
       "      <td>0.389000</td>\n",
       "      <td>0.393342</td>\n",
       "      <td>0.564161</td>\n",
       "      <td>0.694573</td>\n",
       "      <td>0.613819</td>\n",
       "    </tr>\n",
       "    <tr>\n",
       "      <td>3200</td>\n",
       "      <td>0.390700</td>\n",
       "      <td>0.393835</td>\n",
       "      <td>0.537634</td>\n",
       "      <td>0.708221</td>\n",
       "      <td>0.602220</td>\n",
       "    </tr>\n",
       "    <tr>\n",
       "      <td>3400</td>\n",
       "      <td>0.389800</td>\n",
       "      <td>0.392851</td>\n",
       "      <td>0.565343</td>\n",
       "      <td>0.699559</td>\n",
       "      <td>0.615648</td>\n",
       "    </tr>\n",
       "  </tbody>\n",
       "</table><p>"
      ]
     },
     "metadata": {},
     "output_type": "display_data"
    },
    {
     "data": {
      "text/plain": [
       "TrainOutput(global_step=3544, training_loss=0.40484509026762056, metrics={'train_runtime': 5802.9704, 'train_samples_per_second': 39.067, 'train_steps_per_second': 0.611, 'total_flos': 5.965101579352474e+16, 'train_loss': 0.40484509026762056, 'epoch': 2.0})"
      ]
     },
     "execution_count": 41,
     "metadata": {},
     "output_type": "execute_result"
    }
   ],
   "execution_count": 41
  },
  {
   "metadata": {},
   "cell_type": "markdown",
   "source": "## 7、推理",
   "id": "8d3f87ab2489ab09"
  },
  {
   "metadata": {
    "ExecuteTime": {
     "end_time": "2025-01-17T05:29:04.184758Z",
     "start_time": "2025-01-17T05:29:04.182184Z"
    }
   },
   "cell_type": "code",
   "source": "from sklearn.metrics import classification_report",
   "id": "f052fc1b67da7e0",
   "outputs": [],
   "execution_count": 42
  },
  {
   "metadata": {
    "ExecuteTime": {
     "end_time": "2025-01-17T06:09:45.003558Z",
     "start_time": "2025-01-17T06:09:44.791141Z"
    }
   },
   "cell_type": "code",
   "source": [
    "model_path = f\"模型\"\n",
    "tokenizer = AutoTokenizer.from_pretrained(model_path, trust_remote_code=True)\n",
    "model = AutoModelForSequenceClassification.from_pretrained(model_path, trust_remote_code=True, problem_type=\"multi_label_classification\")\n",
    "model = model.eval().to(\"cuda\")"
   ],
   "id": "636a604d89d145ab",
   "outputs": [],
   "execution_count": 52
  },
  {
   "metadata": {
    "ExecuteTime": {
     "end_time": "2025-01-17T06:09:46.038522Z",
     "start_time": "2025-01-17T06:09:45.955985Z"
    }
   },
   "cell_type": "code",
   "source": [
    "test_df = dataloader[\"test\"].to_pandas()\n",
    "test_df"
   ],
   "id": "73de56d3229c1ef8",
   "outputs": [
    {
     "data": {
      "text/plain": [
       "           pmid                                    labels  \\\n",
       "0      21536967  [0.0, 0.0, 1.0, 1.0, 0.0, 0.0, 0.0, 0.0]   \n",
       "1      18263931  [0.0, 0.0, 1.0, 0.0, 0.0, 1.0, 0.0, 0.0]   \n",
       "2      21450447  [0.0, 0.0, 0.0, 0.0, 1.0, 0.0, 0.0, 0.0]   \n",
       "3      33627872  [0.0, 0.0, 0.0, 1.0, 1.0, 1.0, 1.0, 0.0]   \n",
       "4      21806284  [0.0, 0.0, 1.0, 0.0, 0.0, 0.0, 0.0, 0.0]   \n",
       "...         ...                                       ...   \n",
       "12590  17273971  [0.0, 0.0, 0.0, 1.0, 0.0, 0.0, 1.0, 0.0]   \n",
       "12591  30389745  [0.0, 0.0, 0.0, 1.0, 0.0, 0.0, 1.0, 0.0]   \n",
       "12592  20363178  [0.0, 1.0, 0.0, 1.0, 0.0, 0.0, 0.0, 0.0]   \n",
       "12593  17463249  [0.0, 0.0, 0.0, 0.0, 0.0, 1.0, 0.0, 0.0]   \n",
       "12594  29403030  [0.0, 0.0, 1.0, 1.0, 0.0, 0.0, 0.0, 0.0]   \n",
       "\n",
       "                                               input_ids  \\\n",
       "0      [101, 6123, 1024, 16705, 1999, 1043, 7630, 282...   \n",
       "1      [101, 8704, 1024, 1996, 6614, 1997, 2023, 2817...   \n",
       "2      [101, 7327, 6673, 7677, 4588, 13458, 2015, 202...   \n",
       "3      [101, 1996, 3754, 2000, 5901, 15581, 2000, 311...   \n",
       "4      [101, 1996, 12353, 1997, 15965, 9113, 5991, 20...   \n",
       "...                                                  ...   \n",
       "12590  [101, 4824, 7060, 1997, 4962, 1011, 3670, 8386...   \n",
       "12591  [101, 2166, 1011, 2806, 2241, 3635, 3279, 1938...   \n",
       "12592  [101, 2058, 1996, 2197, 2261, 5109, 1010, 1259...   \n",
       "12593  [101, 1996, 8382, 10595, 2920, 1999, 1996, 245...   \n",
       "12594  [101, 1999, 16364, 1005, 1055, 4295, 1006, 107...   \n",
       "\n",
       "                                          token_type_ids  \\\n",
       "0      [0, 0, 0, 0, 0, 0, 0, 0, 0, 0, 0, 0, 0, 0, 0, ...   \n",
       "1      [0, 0, 0, 0, 0, 0, 0, 0, 0, 0, 0, 0, 0, 0, 0, ...   \n",
       "2      [0, 0, 0, 0, 0, 0, 0, 0, 0, 0, 0, 0, 0, 0, 0, ...   \n",
       "3      [0, 0, 0, 0, 0, 0, 0, 0, 0, 0, 0, 0, 0, 0, 0, ...   \n",
       "4      [0, 0, 0, 0, 0, 0, 0, 0, 0, 0, 0, 0, 0, 0, 0, ...   \n",
       "...                                                  ...   \n",
       "12590  [0, 0, 0, 0, 0, 0, 0, 0, 0, 0, 0, 0, 0, 0, 0, ...   \n",
       "12591  [0, 0, 0, 0, 0, 0, 0, 0, 0, 0, 0, 0, 0, 0, 0, ...   \n",
       "12592  [0, 0, 0, 0, 0, 0, 0, 0, 0, 0, 0, 0, 0, 0, 0, ...   \n",
       "12593  [0, 0, 0, 0, 0, 0, 0, 0, 0, 0, 0, 0, 0, 0, 0, ...   \n",
       "12594  [0, 0, 0, 0, 0, 0, 0, 0, 0, 0, 0, 0, 0, 0, 0, ...   \n",
       "\n",
       "                                          attention_mask  \n",
       "0      [1, 1, 1, 1, 1, 1, 1, 1, 1, 1, 1, 1, 1, 1, 1, ...  \n",
       "1      [1, 1, 1, 1, 1, 1, 1, 1, 1, 1, 1, 1, 1, 1, 1, ...  \n",
       "2      [1, 1, 1, 1, 1, 1, 1, 1, 1, 1, 1, 1, 1, 1, 1, ...  \n",
       "3      [1, 1, 1, 1, 1, 1, 1, 1, 1, 1, 1, 1, 1, 1, 1, ...  \n",
       "4      [1, 1, 1, 1, 1, 1, 1, 1, 1, 1, 1, 1, 1, 1, 1, ...  \n",
       "...                                                  ...  \n",
       "12590  [1, 1, 1, 1, 1, 1, 1, 1, 1, 1, 1, 1, 1, 1, 1, ...  \n",
       "12591  [1, 1, 1, 1, 1, 1, 1, 1, 1, 1, 1, 1, 1, 1, 1, ...  \n",
       "12592  [1, 1, 1, 1, 1, 1, 1, 1, 1, 1, 1, 1, 1, 1, 1, ...  \n",
       "12593  [1, 1, 1, 1, 1, 1, 1, 1, 1, 1, 1, 1, 1, 1, 1, ...  \n",
       "12594  [1, 1, 1, 1, 1, 1, 1, 1, 1, 1, 1, 1, 1, 1, 1, ...  \n",
       "\n",
       "[12595 rows x 5 columns]"
      ],
      "text/html": [
       "<div>\n",
       "<style scoped>\n",
       "    .dataframe tbody tr th:only-of-type {\n",
       "        vertical-align: middle;\n",
       "    }\n",
       "\n",
       "    .dataframe tbody tr th {\n",
       "        vertical-align: top;\n",
       "    }\n",
       "\n",
       "    .dataframe thead th {\n",
       "        text-align: right;\n",
       "    }\n",
       "</style>\n",
       "<table border=\"1\" class=\"dataframe\">\n",
       "  <thead>\n",
       "    <tr style=\"text-align: right;\">\n",
       "      <th></th>\n",
       "      <th>pmid</th>\n",
       "      <th>labels</th>\n",
       "      <th>input_ids</th>\n",
       "      <th>token_type_ids</th>\n",
       "      <th>attention_mask</th>\n",
       "    </tr>\n",
       "  </thead>\n",
       "  <tbody>\n",
       "    <tr>\n",
       "      <th>0</th>\n",
       "      <td>21536967</td>\n",
       "      <td>[0.0, 0.0, 1.0, 1.0, 0.0, 0.0, 0.0, 0.0]</td>\n",
       "      <td>[101, 6123, 1024, 16705, 1999, 1043, 7630, 282...</td>\n",
       "      <td>[0, 0, 0, 0, 0, 0, 0, 0, 0, 0, 0, 0, 0, 0, 0, ...</td>\n",
       "      <td>[1, 1, 1, 1, 1, 1, 1, 1, 1, 1, 1, 1, 1, 1, 1, ...</td>\n",
       "    </tr>\n",
       "    <tr>\n",
       "      <th>1</th>\n",
       "      <td>18263931</td>\n",
       "      <td>[0.0, 0.0, 1.0, 0.0, 0.0, 1.0, 0.0, 0.0]</td>\n",
       "      <td>[101, 8704, 1024, 1996, 6614, 1997, 2023, 2817...</td>\n",
       "      <td>[0, 0, 0, 0, 0, 0, 0, 0, 0, 0, 0, 0, 0, 0, 0, ...</td>\n",
       "      <td>[1, 1, 1, 1, 1, 1, 1, 1, 1, 1, 1, 1, 1, 1, 1, ...</td>\n",
       "    </tr>\n",
       "    <tr>\n",
       "      <th>2</th>\n",
       "      <td>21450447</td>\n",
       "      <td>[0.0, 0.0, 0.0, 0.0, 1.0, 0.0, 0.0, 0.0]</td>\n",
       "      <td>[101, 7327, 6673, 7677, 4588, 13458, 2015, 202...</td>\n",
       "      <td>[0, 0, 0, 0, 0, 0, 0, 0, 0, 0, 0, 0, 0, 0, 0, ...</td>\n",
       "      <td>[1, 1, 1, 1, 1, 1, 1, 1, 1, 1, 1, 1, 1, 1, 1, ...</td>\n",
       "    </tr>\n",
       "    <tr>\n",
       "      <th>3</th>\n",
       "      <td>33627872</td>\n",
       "      <td>[0.0, 0.0, 0.0, 1.0, 1.0, 1.0, 1.0, 0.0]</td>\n",
       "      <td>[101, 1996, 3754, 2000, 5901, 15581, 2000, 311...</td>\n",
       "      <td>[0, 0, 0, 0, 0, 0, 0, 0, 0, 0, 0, 0, 0, 0, 0, ...</td>\n",
       "      <td>[1, 1, 1, 1, 1, 1, 1, 1, 1, 1, 1, 1, 1, 1, 1, ...</td>\n",
       "    </tr>\n",
       "    <tr>\n",
       "      <th>4</th>\n",
       "      <td>21806284</td>\n",
       "      <td>[0.0, 0.0, 1.0, 0.0, 0.0, 0.0, 0.0, 0.0]</td>\n",
       "      <td>[101, 1996, 12353, 1997, 15965, 9113, 5991, 20...</td>\n",
       "      <td>[0, 0, 0, 0, 0, 0, 0, 0, 0, 0, 0, 0, 0, 0, 0, ...</td>\n",
       "      <td>[1, 1, 1, 1, 1, 1, 1, 1, 1, 1, 1, 1, 1, 1, 1, ...</td>\n",
       "    </tr>\n",
       "    <tr>\n",
       "      <th>...</th>\n",
       "      <td>...</td>\n",
       "      <td>...</td>\n",
       "      <td>...</td>\n",
       "      <td>...</td>\n",
       "      <td>...</td>\n",
       "    </tr>\n",
       "    <tr>\n",
       "      <th>12590</th>\n",
       "      <td>17273971</td>\n",
       "      <td>[0.0, 0.0, 0.0, 1.0, 0.0, 0.0, 1.0, 0.0]</td>\n",
       "      <td>[101, 4824, 7060, 1997, 4962, 1011, 3670, 8386...</td>\n",
       "      <td>[0, 0, 0, 0, 0, 0, 0, 0, 0, 0, 0, 0, 0, 0, 0, ...</td>\n",
       "      <td>[1, 1, 1, 1, 1, 1, 1, 1, 1, 1, 1, 1, 1, 1, 1, ...</td>\n",
       "    </tr>\n",
       "    <tr>\n",
       "      <th>12591</th>\n",
       "      <td>30389745</td>\n",
       "      <td>[0.0, 0.0, 0.0, 1.0, 0.0, 0.0, 1.0, 0.0]</td>\n",
       "      <td>[101, 2166, 1011, 2806, 2241, 3635, 3279, 1938...</td>\n",
       "      <td>[0, 0, 0, 0, 0, 0, 0, 0, 0, 0, 0, 0, 0, 0, 0, ...</td>\n",
       "      <td>[1, 1, 1, 1, 1, 1, 1, 1, 1, 1, 1, 1, 1, 1, 1, ...</td>\n",
       "    </tr>\n",
       "    <tr>\n",
       "      <th>12592</th>\n",
       "      <td>20363178</td>\n",
       "      <td>[0.0, 1.0, 0.0, 1.0, 0.0, 0.0, 0.0, 0.0]</td>\n",
       "      <td>[101, 2058, 1996, 2197, 2261, 5109, 1010, 1259...</td>\n",
       "      <td>[0, 0, 0, 0, 0, 0, 0, 0, 0, 0, 0, 0, 0, 0, 0, ...</td>\n",
       "      <td>[1, 1, 1, 1, 1, 1, 1, 1, 1, 1, 1, 1, 1, 1, 1, ...</td>\n",
       "    </tr>\n",
       "    <tr>\n",
       "      <th>12593</th>\n",
       "      <td>17463249</td>\n",
       "      <td>[0.0, 0.0, 0.0, 0.0, 0.0, 1.0, 0.0, 0.0]</td>\n",
       "      <td>[101, 1996, 8382, 10595, 2920, 1999, 1996, 245...</td>\n",
       "      <td>[0, 0, 0, 0, 0, 0, 0, 0, 0, 0, 0, 0, 0, 0, 0, ...</td>\n",
       "      <td>[1, 1, 1, 1, 1, 1, 1, 1, 1, 1, 1, 1, 1, 1, 1, ...</td>\n",
       "    </tr>\n",
       "    <tr>\n",
       "      <th>12594</th>\n",
       "      <td>29403030</td>\n",
       "      <td>[0.0, 0.0, 1.0, 1.0, 0.0, 0.0, 0.0, 0.0]</td>\n",
       "      <td>[101, 1999, 16364, 1005, 1055, 4295, 1006, 107...</td>\n",
       "      <td>[0, 0, 0, 0, 0, 0, 0, 0, 0, 0, 0, 0, 0, 0, 0, ...</td>\n",
       "      <td>[1, 1, 1, 1, 1, 1, 1, 1, 1, 1, 1, 1, 1, 1, 1, ...</td>\n",
       "    </tr>\n",
       "  </tbody>\n",
       "</table>\n",
       "<p>12595 rows × 5 columns</p>\n",
       "</div>"
      ]
     },
     "execution_count": 53,
     "metadata": {},
     "output_type": "execute_result"
    }
   ],
   "execution_count": 53
  },
  {
   "metadata": {
    "ExecuteTime": {
     "end_time": "2025-01-17T06:09:46.814003Z",
     "start_time": "2025-01-17T06:09:46.361779Z"
    }
   },
   "cell_type": "code",
   "source": [
    "test_df['input_ids'] = test_df['input_ids'].map(lambda x: x.tolist())\n",
    "test_df['attention_mask'] = test_df['attention_mask'].map(lambda x: x.tolist())\n",
    "test_df['token_type_ids'] = test_df['token_type_ids'].map(lambda x: x.tolist())\n",
    "test_df['labels'] = test_df['labels'].map(lambda x: [int(s) for s in x.tolist()])"
   ],
   "id": "8bec20311dd2aa99",
   "outputs": [],
   "execution_count": 54
  },
  {
   "metadata": {
    "ExecuteTime": {
     "end_time": "2025-01-17T06:11:02.866025Z",
     "start_time": "2025-01-17T06:09:46.822189Z"
    }
   },
   "cell_type": "code",
   "source": [
    "y_pred = []\n",
    "for i in range(0, test_df.shape[0], 128):\n",
    "    tokens = {\n",
    "        \"input_ids\": torch.tensor(test_df.loc[i:i + 127, \"input_ids\"].tolist(), device=\"cuda\"),\n",
    "        \"attention_mask\": torch.tensor(test_df.loc[i:i + 127, \"attention_mask\"].tolist(), device=\"cuda\"),\n",
    "        \"token_type_ids\": torch.tensor(test_df.loc[i:i + 127, \"token_type_ids\"].tolist(), device=\"cuda\"),\n",
    "    }\n",
    "\n",
    "    v = model(**tokens).logits.sigmoid().cpu().detach().numpy()\n",
    "    y_pred.extend([[int(i) for i in line] for line in (v > 0.5)])"
   ],
   "id": "5b8934d0f5c30300",
   "outputs": [],
   "execution_count": 55
  },
  {
   "metadata": {},
   "cell_type": "code",
   "source": "print(classification_report(test_df[\"labels\"].tolist(), y_pred, target_names=list(label2idx.keys()), zero_division=0))",
   "id": "6db491a0ec9c7bc6",
   "outputs": [],
   "execution_count": null
  }
 ],
 "metadata": {
  "kernelspec": {
   "display_name": "Python 3",
   "language": "python",
   "name": "python3"
  },
  "language_info": {
   "codemirror_mode": {
    "name": "ipython",
    "version": 2
   },
   "file_extension": ".py",
   "mimetype": "text/x-python",
   "name": "python",
   "nbconvert_exporter": "python",
   "pygments_lexer": "ipython2",
   "version": "2.7.6"
  }
 },
 "nbformat": 4,
 "nbformat_minor": 5
}
